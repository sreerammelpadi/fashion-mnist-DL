{
 "cells": [
  {
   "cell_type": "code",
   "id": "e5a85ad35b52f506",
   "metadata": {},
   "source": [
    "import torch\n",
    "import torch.nn as nn\n",
    "import torch.optim as optim\n",
    "import torchvision\n",
    "import torchvision.transforms as transforms\n",
    "import torch.nn.functional as F\n",
    "from torch.utils.data import DataLoader, random_split"
   ],
   "outputs": [],
   "execution_count": null
  },
  {
   "metadata": {
    "ExecuteTime": {
     "end_time": "2025-03-14T13:23:48.693128Z",
     "start_time": "2025-03-14T13:23:39.807373Z"
    }
   },
   "cell_type": "code",
   "outputs": [
    {
     "name": "stderr",
     "output_type": "stream",
     "text": [
      "100%|██████████| 26.4M/26.4M [00:01<00:00, 14.0MB/s]\n",
      "100%|██████████| 29.5k/29.5k [00:00<00:00, 319kB/s]\n",
      "100%|██████████| 4.42M/4.42M [00:00<00:00, 4.92MB/s]\n",
      "100%|██████████| 5.15k/5.15k [00:00<00:00, 5.10MB/s]\n"
     ]
    }
   ],
   "execution_count": 1,
   "source": [
    "\n",
    "class FashionMNISTModel(nn.Module):\n",
    "    def __init__(self):\n",
    "        super(FashionMNISTModel, self).__init__()\n",
    "        self.conv1 = nn.Conv2d(1, 32, kernel_size=3, padding=1)\n",
    "        self.conv2 = nn.Conv2d(32, 64, kernel_size=3, padding=1)\n",
    "        self.fc1 = nn.Linear(64 * 7 * 7, 128)\n",
    "        self.fc2 = nn.Linear(128, 10)\n",
    "\n",
    "    def forward(self, x):\n",
    "        x = F.relu(self.conv1(x))\n",
    "        x = F.max_pool2d(x, 2)\n",
    "        x = F.relu(self.conv2(x))\n",
    "        x = F.max_pool2d(x, 2)\n",
    "        x = x.view(-1, 64 * 7 * 7)\n",
    "        x = F.relu(self.fc1(x))\n",
    "        x = self.fc2(x)\n",
    "        return x\n",
    "\n",
    "# Load dataset with transformations\n",
    "transform = transforms.Compose([transforms.ToTensor(), transforms.Normalize((0.5,), (0.5,))])\n",
    "dataset = torchvision.datasets.FashionMNIST(root='./data', train=True, download=True, transform=transform)\n",
    "\n",
    "# Split into Train (80%), Validation (10%), Test (10%)\n",
    "train_size = int(0.8 * len(dataset))\n",
    "val_size = int(0.1 * len(dataset))\n",
    "test_size = len(dataset) - train_size - val_size\n",
    "train_set, val_set, test_set = random_split(dataset, [train_size, val_size, test_size])\n",
    "\n",
    "# Create DataLoaders\n",
    "train_loader = DataLoader(train_set, batch_size=64, shuffle=True)\n",
    "val_loader = DataLoader(val_set, batch_size=64, shuffle=False)\n",
    "test_loader = DataLoader(test_set, batch_size=64, shuffle=False)"
   ],
   "id": "94436a7c5de506e5"
  },
  {
   "metadata": {
    "ExecuteTime": {
     "end_time": "2025-03-14T13:23:48.743185Z",
     "start_time": "2025-03-14T13:23:48.728458Z"
    }
   },
   "cell_type": "code",
   "source": [
    "\n",
    "# Setup model, loss, and optimizer\n",
    "device = torch.device(\"cuda\" if torch.cuda.is_available() else \"cpu\")\n",
    "model = FashionMNISTModel().to(device)\n",
    "criterion = nn.CrossEntropyLoss()\n",
    "optimizer = optim.Adam(model.parameters(), lr=0.001)"
   ],
   "id": "5b88ae7dd1eb3f9d",
   "outputs": [],
   "execution_count": 2
  },
  {
   "metadata": {
    "ExecuteTime": {
     "end_time": "2025-03-14T13:25:50.693654Z",
     "start_time": "2025-03-14T13:23:49.396487Z"
    }
   },
   "cell_type": "code",
   "source": [
    "\n",
    "# Training loop with validation metrics\n",
    "num_epochs = 5\n",
    "for epoch in range(num_epochs):\n",
    "    model.train()\n",
    "    correct_train, total_train, train_loss = 0, 0, 0.0\n",
    "\n",
    "    for images, labels in train_loader:\n",
    "        images, labels = images.to(device), labels.to(device)\n",
    "\n",
    "        optimizer.zero_grad()\n",
    "        outputs = model(images)\n",
    "        loss = criterion(outputs, labels)\n",
    "        loss.backward()\n",
    "        optimizer.step()\n",
    "\n",
    "        # Compute training accuracy\n",
    "        _, predicted = torch.max(outputs, 1)\n",
    "        total_train += labels.size(0)\n",
    "        correct_train += (predicted == labels).sum().item()\n",
    "        train_loss += loss.item()\n",
    "\n",
    "    train_acc = 100 * correct_train / total_train\n",
    "    avg_train_loss = train_loss / len(train_loader)\n",
    "\n",
    "    # Validation Phase\n",
    "    model.eval()\n",
    "    correct_val, total_val, val_loss = 0, 0, 0.0\n",
    "\n",
    "    with torch.no_grad():\n",
    "        for images, labels in val_loader:\n",
    "            images, labels = images.to(device), labels.to(device)\n",
    "            outputs = model(images)\n",
    "            loss = criterion(outputs, labels)\n",
    "\n",
    "            _, predicted = torch.max(outputs, 1)\n",
    "            total_val += labels.size(0)\n",
    "            correct_val += (predicted == labels).sum().item()\n",
    "            val_loss += loss.item()\n",
    "\n",
    "    val_acc = 100 * correct_val / total_val\n",
    "    avg_val_loss = val_loss / len(val_loader)\n",
    "\n",
    "    print(f\"Epoch {epoch+1}/{num_epochs}: Train Loss: {avg_train_loss:.4f}, Train Acc: {train_acc:.2f}% | Val Loss: {avg_val_loss:.4f}, Val Acc: {val_acc:.2f}%\")"
   ],
   "id": "48b67d968ca5e493",
   "outputs": [
    {
     "name": "stdout",
     "output_type": "stream",
     "text": [
      "Epoch 1/5: Train Loss: 0.4698, Train Acc: 83.03% | Val Loss: 0.3352, Val Acc: 88.05%\n",
      "Epoch 2/5: Train Loss: 0.3022, Train Acc: 89.01% | Val Loss: 0.2803, Val Acc: 90.20%\n",
      "Epoch 3/5: Train Loss: 0.2517, Train Acc: 90.70% | Val Loss: 0.2604, Val Acc: 90.93%\n",
      "Epoch 4/5: Train Loss: 0.2205, Train Acc: 91.94% | Val Loss: 0.2453, Val Acc: 91.23%\n",
      "Epoch 5/5: Train Loss: 0.1915, Train Acc: 92.92% | Val Loss: 0.2363, Val Acc: 91.60%\n"
     ]
    }
   ],
   "execution_count": 3
  },
  {
   "metadata": {
    "ExecuteTime": {
     "end_time": "2025-03-14T13:43:51.375452Z",
     "start_time": "2025-03-14T13:43:48.499005Z"
    }
   },
   "cell_type": "code",
   "source": [
    "from sklearn.metrics import classification_report\n",
    "\n",
    "# Test Evaluation\n",
    "model.eval()\n",
    "correct_test, total_test = 0, 0\n",
    "all_preds, all_labels = [], []\n",
    "\n",
    "with torch.no_grad():\n",
    "    for images, labels in test_loader:\n",
    "        images, labels = images.to(device), labels.to(device)\n",
    "        outputs = model(images)\n",
    "        _, predicted = torch.max(outputs, 1)\n",
    "\n",
    "        total_test += labels.size(0)\n",
    "        correct_test += (predicted == labels).sum().item()\n",
    "\n",
    "        # Store predictions and labels for classification report\n",
    "        all_preds.extend(predicted.cpu().numpy())\n",
    "        all_labels.extend(labels.cpu().numpy())\n",
    "\n",
    "test_acc = 100 * correct_test / total_test\n",
    "print(f\"Final Test Accuracy: {test_acc:.2f}%\")\n",
    "\n",
    "# Generate Classification Report\n",
    "class_names = dataset.classes  # Get class names from FashionMNIST dataset\n",
    "print(\"\\nClassification Report:\\n\")\n",
    "print(classification_report(all_labels, all_preds, target_names=class_names))"
   ],
   "id": "4b602c87b02d6ce5",
   "outputs": [
    {
     "name": "stdout",
     "output_type": "stream",
     "text": [
      "Final Test Accuracy: 91.57%\n",
      "\n",
      "Classification Report:\n",
      "\n",
      "              precision    recall  f1-score   support\n",
      "\n",
      " T-shirt/top       0.90      0.83      0.86       610\n",
      "     Trouser       0.98      0.99      0.99       592\n",
      "    Pullover       0.85      0.88      0.87       583\n",
      "       Dress       0.93      0.92      0.93       621\n",
      "        Coat       0.86      0.86      0.86       627\n",
      "      Sandal       0.96      0.99      0.98       596\n",
      "       Shirt       0.76      0.77      0.77       591\n",
      "     Sneaker       0.96      0.96      0.96       572\n",
      "         Bag       0.98      0.99      0.99       594\n",
      "  Ankle boot       0.98      0.96      0.97       614\n",
      "\n",
      "    accuracy                           0.92      6000\n",
      "   macro avg       0.92      0.92      0.92      6000\n",
      "weighted avg       0.92      0.92      0.92      6000\n",
      "\n"
     ]
    }
   ],
   "execution_count": 7
  },
  {
   "metadata": {
    "collapsed": true,
    "ExecuteTime": {
     "end_time": "2025-03-14T13:35:58.271828Z",
     "start_time": "2025-03-14T13:35:58.179851Z"
    }
   },
   "cell_type": "code",
   "source": [
    "# Save trained model\n",
    "torch.save(model, \"fashion_mnist_full_model.pth\")\n",
    "print(\"Model saved!\")\n"
   ],
   "id": "initial_id",
   "outputs": [
    {
     "name": "stdout",
     "output_type": "stream",
     "text": [
      "Model saved!\n"
     ]
    }
   ],
   "execution_count": 6
  }
 ],
 "metadata": {
  "kernelspec": {
   "display_name": "Python 3",
   "language": "python",
   "name": "python3"
  },
  "language_info": {
   "codemirror_mode": {
    "name": "ipython",
    "version": 2
   },
   "file_extension": ".py",
   "mimetype": "text/x-python",
   "name": "python",
   "nbconvert_exporter": "python",
   "pygments_lexer": "ipython2",
   "version": "2.7.6"
  }
 },
 "nbformat": 4,
 "nbformat_minor": 5
}
